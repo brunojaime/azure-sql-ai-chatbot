{
 "cells": [
  {
   "cell_type": "code",
   "execution_count": 2,
   "metadata": {},
   "outputs": [
    {
     "name": "stderr",
     "output_type": "stream",
     "text": [
      "c:\\Users\\Bruno\\OneDrive\\Machine learning\\Azure AI custom\\azure-sql-ai-chatbot\\.venv\\Lib\\site-packages\\tqdm\\auto.py:21: TqdmWarning: IProgress not found. Please update jupyter and ipywidgets. See https://ipywidgets.readthedocs.io/en/stable/user_install.html\n",
      "  from .autonotebook import tqdm as notebook_tqdm\n"
     ]
    },
    {
     "name": "stdout",
     "output_type": "stream",
     "text": [
      "Downloading from https://www.kaggle.com/api/v1/datasets/download/abecklas/fifa-world-cup?dataset_version_number=5...\n"
     ]
    },
    {
     "name": "stderr",
     "output_type": "stream",
     "text": [
      "100%|██████████| 349k/349k [00:00<00:00, 605kB/s]"
     ]
    },
    {
     "name": "stdout",
     "output_type": "stream",
     "text": [
      "Extracting files...\n",
      "Path to dataset files: C:\\Users\\Bruno\\.cache\\kagglehub\\datasets\\abecklas\\fifa-world-cup\\versions\\5\n"
     ]
    },
    {
     "name": "stderr",
     "output_type": "stream",
     "text": [
      "\n"
     ]
    }
   ],
   "source": [
    "import kagglehub\n",
    "\n",
    "# Download latest version\n",
    "path = kagglehub.dataset_download(\"abecklas/fifa-world-cup\")\n",
    "\n",
    "print(\"Path to dataset files:\", path)"
   ]
  },
  {
   "cell_type": "markdown",
   "metadata": {},
   "source": [
    "# Connection to the server"
   ]
  },
  {
   "cell_type": "code",
   "execution_count": 4,
   "metadata": {},
   "outputs": [
    {
     "name": "stdout",
     "output_type": "stream",
     "text": [
      "Connection succesful!\n"
     ]
    }
   ],
   "source": [
    "import pyodbc\n",
    "import csv\n",
    "import os\n",
    "from dotenv import load_dotenv\n",
    "from dotenv import dotenv_values\n",
    "\n",
    "# Azure SQL connection details\n",
    "server_name = os.getenv(\"AZURE_SERVER_NAME\")\n",
    "database_name = os.getenv(\"DATABASE_NAME\")\n",
    "admin_username = os.getenv(\"DB_ADMIN_USERNAME\")\n",
    "admin_password = os.getenv(\"DB_ADMIN_PASSWORD\")\n",
    "\n",
    "connection_string = (\n",
    "        f\"DRIVER={{ODBC Driver 17 for SQL Server}};\"\n",
    "        f\"SERVER={server_name};\"\n",
    "        f\"DATABASE={database_name};\"\n",
    "        f\"UID={admin_username};\"\n",
    "        f\"PWD={admin_password}\"\n",
    "    )\n",
    "\n",
    "try:\n",
    "    connection = pyodbc.connect(connection_string)\n",
    "    print(\"Connection succesful!\")    \n",
    "    \n",
    "except pyodbc.Error as e:\n",
    "    print(\"Error connecting to the database:\",e)"
   ]
  },
  {
   "cell_type": "markdown",
   "metadata": {},
   "source": [
    "# Insert the csv data into the database"
   ]
  },
  {
   "cell_type": "code",
   "execution_count": 8,
   "metadata": {},
   "outputs": [
    {
     "name": "stdout",
     "output_type": "stream",
     "text": [
      "Data successfully inserted into WorldCupMatches table.\n"
     ]
    }
   ],
   "source": [
    "import pyodbc\n",
    "import csv\n",
    "import os\n",
    "from dotenv import load_dotenv\n",
    "from dotenv import dotenv_values\n",
    "\n",
    "env = \".env\"\n",
    "if os.path.exists(env):\n",
    "    load_dotenv(override=True)\n",
    "    config= dotenv_values(env)\n",
    "\n",
    "# Azure SQL connection details\n",
    "server_name = os.getenv(\"AZURE_SERVER_NAME\")\n",
    "database_name = os.getenv(\"DATABASE_NAME\")\n",
    "admin_username = os.getenv(\"DB_ADMIN_USERNAME\")\n",
    "admin_password = os.getenv(\"DB_ADMIN_PASSWORD\")\n",
    "\n",
    "# File path to your CSV file\n",
    "csv_file_path = \"Datasets/WorldCupMatches.csv\"\n",
    "\n",
    "def load_csv_to_database():\n",
    "    # Connect to the Azure SQL Database\n",
    "    connection_string = (\n",
    "        f\"DRIVER={{ODBC Driver 17 for SQL Server}};\"\n",
    "        f\"SERVER={server_name};\"\n",
    "        f\"DATABASE={database_name};\"\n",
    "        f\"UID={admin_username};\"\n",
    "        f\"PWD={admin_password}\"\n",
    "    )\n",
    "\n",
    "    connection = pyodbc.connect(connection_string)\n",
    "    cursor = connection.cursor()\n",
    "\n",
    "    # Read CSV file and insert rows into the database\n",
    "    with open(csv_file_path, mode=\"r\", encoding=\"utf-8\") as file:\n",
    "        csv_reader = csv.reader(file)\n",
    "        next(csv_reader)  # Skip header row\n",
    "\n",
    "        for row in csv_reader:\n",
    "            cursor.execute(\"\"\"\n",
    "                INSERT INTO WorldCupMatches (\n",
    "                    Year, Datetime, Stage, Stadium, City, HomeTeamName,\n",
    "                    HomeTeamGoals, AwayTeamGoals, AwayTeamName, WinConditions,\n",
    "                    Attendance, HalfTimeHomeGoals, HalfTimeAwayGoals,\n",
    "                    Referee, Assistant1, Assistant2, RoundID, MatchID,\n",
    "                    HomeTeamInitials, AwayTeamInitials\n",
    "                ) VALUES (?, ?, ?, ?, ?, ?, ?, ?, ?, ?, ?, ?, ?, ?, ?, ?, ?, ?, ?, ?)\n",
    "            \"\"\", row)\n",
    "\n",
    "    # Commit and close the connection\n",
    "    connection.commit()\n",
    "    connection.close()\n",
    "    print(\"Data successfully inserted into WorldCupMatches table.\")\n",
    "\n",
    "if __name__ == \"__main__\":\n",
    "    load_csv_to_database()\n"
   ]
  },
  {
   "cell_type": "code",
   "execution_count": null,
   "metadata": {},
   "outputs": [],
   "source": []
  }
 ],
 "metadata": {
  "kernelspec": {
   "display_name": ".venv",
   "language": "python",
   "name": "python3"
  },
  "language_info": {
   "codemirror_mode": {
    "name": "ipython",
    "version": 3
   },
   "file_extension": ".py",
   "mimetype": "text/x-python",
   "name": "python",
   "nbconvert_exporter": "python",
   "pygments_lexer": "ipython3",
   "version": "3.12.8"
  }
 },
 "nbformat": 4,
 "nbformat_minor": 2
}
